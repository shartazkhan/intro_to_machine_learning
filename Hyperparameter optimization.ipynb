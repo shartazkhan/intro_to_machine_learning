{
 "cells": [
  {
   "cell_type": "markdown",
   "id": "b3e7c139-befb-4784-a4f6-56a20b947d70",
   "metadata": {},
   "source": [
    "* Hyperparameter optimization is the process of finding the most appropriate hyperparameter combination according to the success metric determined for the particular machine learning algorithm.\n",
    "\n",
    "* With this think called the hyperparameter optimization, the model complexity can be balanced, and a balance of overfitting and underfitting can be achieved.\n",
    "\n",
    "* The over-learning problem caused by the model's flexibility can be solved with the constraints imposed by hyperparameters."
   ]
  },
  {
   "cell_type": "code",
   "execution_count": null,
   "id": "51f92e25-04a0-475b-9dd3-ecb015204f49",
   "metadata": {},
   "outputs": [],
   "source": []
  }
 ],
 "metadata": {
  "kernelspec": {
   "display_name": "Python 3 (ipykernel)",
   "language": "python",
   "name": "python3"
  },
  "language_info": {
   "codemirror_mode": {
    "name": "ipython",
    "version": 3
   },
   "file_extension": ".py",
   "mimetype": "text/x-python",
   "name": "python",
   "nbconvert_exporter": "python",
   "pygments_lexer": "ipython3",
   "version": "3.11.7"
  }
 },
 "nbformat": 4,
 "nbformat_minor": 5
}
