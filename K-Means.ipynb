{
 "cells": [
  {
   "cell_type": "markdown",
   "id": "57dfc2e1-78ec-4eb0-ba34-d2f34d6d98b6",
   "metadata": {
    "tags": []
   },
   "source": [
    "<h1>Unsupervised Learning</h1>\n",
    "\n",
    "Unsupervised learning is a type of machine learning where the algorithm is given a dataset without explicit instructions on what to do with it. The system tries to learn the patterns, relationships, and structures within the data on its own, without labeled outputs or predefined target values.\n",
    "\n",
    "In unsupervised learning, the algorithm explores the inherent structure of the data to find hidden patterns or representations. The goal is often to discover the underlying structure, group similar data points, or reduce the dimensionality of the data. Clustering and dimensionality reduction are common tasks in unsupervised learning.\n",
    "\n",
    "Two main types of unsupervised learning are:\n",
    "\n",
    "- **Clustering:** The algorithm identifies groups of similar instances in the data, grouping them together based on certain features or characteristics. Examples of clustering algorithms include k-means clustering and hierarchical clustering.\n",
    "\n",
    "- **Dimensionality Reduction:** The algorithm aims to reduce the number of features or variables in the dataset while retaining the essential information. Principal Component Analysis (PCA) is a popular technique for dimensionality reduction.\n",
    "\n",
    "Unsupervised learning is in contrast to supervised learning, where the algorithm is trained on labeled data with explicit input-output pairs. Unsupervised learning is often used in situations where labeled data is scarce or unavailable, and the goal is to explore and understand the structure of the data.\n"
   ]
  },
  {
   "cell_type": "markdown",
   "id": "a0aa2371-3bde-499f-8aca-03cf2f496539",
   "metadata": {},
   "source": [
    "Supervised learning and unsupervised learning are two fundamental approaches in machine learning, and they differ primarily in the way they use labeled or unlabeled data for training.\n",
    "\n",
    "**Supervised Learning:**\n",
    "- **Training Data:**\n",
    "    - **Labeled Data:** Supervised learning relies on a labeled training dataset, where each input is associated with a corresponding output or target. The algorithm learns to map inputs to specific outputs based on the provided labels.\n",
    "- **Objective:**\n",
    "    - **Prediction:** The main goal of supervised learning is to make accurate predictions or classifications for new, unseen data points based on the patterns learned during training.\n",
    "- **Examples:**\n",
    "    - **Classification:** Identifying which category or class an input belongs to (e.g., spam or not spam, image classification).\n",
    "Regression: Predicting a continuous output variable (e.g., predicting house prices).\n",
    "\n",
    "**Unsupervised Learning:**\n",
    "- **Training Data:**\n",
    "    - **Unlabeled Data:** Unsupervised learning works with unlabeled data, where the algorithm is given a dataset without explicit instructions on what the output should be.\n",
    "- **Objective:**\n",
    "    - **Discover Patterns:** The primary goal is to explore the inherent structure of the data, uncover hidden patterns, or find relationships between data points without predefined outputs.\n",
    "- **Examples:**\n",
    "    - **Clustering:** Grouping similar data points together based on certain features.\n",
    "    - **Dimensionality Reduction:** Reducing the number of features while retaining important information.\n",
    "    - **Association:** Discovering relationships and associations between variables in the data.\n",
    "\n"
   ]
  },
  {
   "cell_type": "code",
   "execution_count": null,
   "id": "637e7061-44c7-4470-b874-82f79c23d539",
   "metadata": {},
   "outputs": [],
   "source": []
  }
 ],
 "metadata": {
  "kernelspec": {
   "display_name": "Python 3 (ipykernel)",
   "language": "python",
   "name": "python3"
  },
  "language_info": {
   "codemirror_mode": {
    "name": "ipython",
    "version": 3
   },
   "file_extension": ".py",
   "mimetype": "text/x-python",
   "name": "python",
   "nbconvert_exporter": "python",
   "pygments_lexer": "ipython3",
   "version": "3.11.7"
  }
 },
 "nbformat": 4,
 "nbformat_minor": 5
}
